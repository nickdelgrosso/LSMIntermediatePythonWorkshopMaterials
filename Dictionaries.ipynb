{
 "cells": [
  {
   "cell_type": "markdown",
   "source": "# Dictionaries \n## (a.k.a. `Dicts`)\n\nPython has a valuable data structure used for  associating pairs of values: the `dict`.\nEach `item` in a `dict` has two parts: the `key` and the `value`.  For example:\n\n```python\nphone_numbers = {'Ben': '+49123343282', 'Julie': '+45328472022'}\n```\n.\n\nIn this example, the names are the keys:\n\n```python\n>>> phone_numbers.keys()\ndict_keys(['Ben', 'Julie'])\n```\n.\n\nThe numbers are the values:\n\n```python\n>>> phone_numbers.values()\ndict_values(['+49123343282', '+45328472022'])\n```\n.\n\nAltogether, the pairs are `items`:\n```python\n>>> phone_numbers.items()\ndict_items([('Ben', '+49123343282'), ('Julie', '+45328472022')])\n```\n. \nkeys, values, and items can be looped through, making them work a lot like a zipped list.\n\n**Tip**: You can change zipped list into a dict with the `dict()` function!  \n\n```python\n>>> dict([('a', 1), ('b', 2)])\n{'a': 1, 'b': 2}\n```\n\n\nLet's explore some dictionaries and get a feel for them.",
   "metadata": {
    "tags": [],
    "cell_id": "00001-c8b7162c-b006-4596-91f9-fa526dd0de54",
    "deepnote_cell_type": "markdown"
   }
  },
  {
   "cell_type": "markdown",
   "source": "**Exercises**",
   "metadata": {
    "tags": [],
    "cell_id": "00001-f79eb6d6-4fc0-4820-9279-06bb64f06729",
    "deepnote_cell_type": "markdown"
   }
  },
  {
   "cell_type": "markdown",
   "source": "Print the `values` of this dict",
   "metadata": {
    "tags": [],
    "cell_id": "00002-daede3e3-f2ff-4f36-a400-8461c8fae4e7",
    "deepnote_cell_type": "markdown"
   }
  },
  {
   "cell_type": "code",
   "metadata": {
    "tags": [],
    "cell_id": "00000-1fe44039-c5e7-4e4d-ba1e-af8ece0c28bb",
    "deepnote_to_be_reexecuted": false,
    "source_hash": "b623e53d",
    "execution_start": 1634211720387,
    "execution_millis": 1,
    "deepnote_cell_type": "code"
   },
   "source": "birthdays = {'John': 'Jan. 4th', 'Bernice': 'May 25th'}",
   "execution_count": 0,
   "outputs": []
  },
  {
   "cell_type": "markdown",
   "source": "Print the `keys` of this dict",
   "metadata": {
    "tags": [],
    "cell_id": "00004-121dd86c-09c5-45c3-8187-5daed60bca2d",
    "deepnote_cell_type": "markdown"
   }
  },
  {
   "cell_type": "code",
   "source": "birthdays = {'John': 'Jan. 4th', 'Bernice': 'May 25th'}",
   "metadata": {
    "tags": [],
    "cell_id": "00004-e4f95858-9c3d-4865-9fbe-64070fdd0420",
    "deepnote_to_be_reexecuted": false,
    "source_hash": "4c0051d4",
    "execution_start": 1634212157832,
    "execution_millis": 1,
    "deepnote_cell_type": "code"
   },
   "outputs": [],
   "execution_count": null
  },
  {
   "cell_type": "markdown",
   "source": "Print the `items` of this dict",
   "metadata": {
    "tags": [],
    "cell_id": "00006-b3a9b407-190b-4475-8a1a-27d23fb3e8c5",
    "deepnote_cell_type": "markdown"
   }
  },
  {
   "cell_type": "code",
   "source": "birthdays = {'John': 'Jan. 4th', 'Bernice': 'May 25th'}",
   "metadata": {
    "tags": [],
    "cell_id": "00005-8bca3064-8493-4be7-9afa-fc23bf0d6325",
    "deepnote_to_be_reexecuted": false,
    "source_hash": "4c0051d4",
    "execution_start": 1634211977207,
    "execution_millis": 1,
    "deepnote_cell_type": "code"
   },
   "outputs": [],
   "execution_count": null
  },
  {
   "cell_type": "markdown",
   "source": "Make a dict from this list:",
   "metadata": {
    "tags": [],
    "cell_id": "00008-8ce9796a-0269-4b9c-b4f1-f4350733d973",
    "deepnote_cell_type": "markdown"
   }
  },
  {
   "cell_type": "code",
   "source": "brightnesses = [('red', 65), ('green', 3), ('blue', 10)]",
   "metadata": {
    "tags": [],
    "cell_id": "00006-a669e6ee-c488-49d9-ba0a-aa13cc3f2c28",
    "deepnote_to_be_reexecuted": false,
    "source_hash": "fd2c92d5",
    "execution_start": 1634212049410,
    "execution_millis": 3,
    "deepnote_cell_type": "code"
   },
   "outputs": [],
   "execution_count": null
  },
  {
   "cell_type": "markdown",
   "source": "Make a `list` of this dict's `items`:",
   "metadata": {
    "tags": [],
    "cell_id": "00010-2a87511e-ddae-482c-ad5e-c4a36b8acada",
    "deepnote_cell_type": "markdown"
   }
  },
  {
   "cell_type": "code",
   "source": "brightnesses = {'red': 65, 'green': 3, 'blue': 10}",
   "metadata": {
    "tags": [],
    "cell_id": "00007-ae974064-af3e-4981-aa85-de4c73f0c7b4",
    "deepnote_to_be_reexecuted": false,
    "source_hash": "888cd7e0",
    "execution_start": 1634212145863,
    "execution_millis": 1,
    "deepnote_cell_type": "code"
   },
   "outputs": [],
   "execution_count": null
  },
  {
   "cell_type": "markdown",
   "source": "Write for-loop that prints each phone number in this dict",
   "metadata": {
    "tags": [],
    "cell_id": "00012-d7b96685-ab5f-4521-9317-27a26d8727da",
    "deepnote_cell_type": "markdown"
   }
  },
  {
   "cell_type": "code",
   "source": "phone_numbers = {'Ben': '+49123343282', 'Julie': '+45328472022'}",
   "metadata": {
    "tags": [],
    "cell_id": "00008-026ec291-9fe1-45c9-99cc-271fb8bb3042",
    "deepnote_to_be_reexecuted": false,
    "source_hash": "b623e53d",
    "execution_start": 1634211722723,
    "execution_millis": 1,
    "deepnote_cell_type": "code"
   },
   "outputs": [],
   "execution_count": 0
  },
  {
   "cell_type": "markdown",
   "source": "Write for-loop that prints, one at a time, the name and phone number of each person in this dict",
   "metadata": {
    "tags": [],
    "cell_id": "00014-94a34465-dcff-4993-a31d-44778229a3da",
    "deepnote_cell_type": "markdown"
   }
  },
  {
   "cell_type": "code",
   "source": "phone_numbers = {'Ben': '+49123343282', 'Julie': '+45328472022'}",
   "metadata": {
    "tags": [],
    "cell_id": "00009-561bc7f7-17f5-4fdc-8d6a-d6f90403cd2d",
    "deepnote_to_be_reexecuted": false,
    "source_hash": "87392dc2",
    "execution_start": 1634212283895,
    "execution_millis": 0,
    "deepnote_cell_type": "code"
   },
   "outputs": [],
   "execution_count": null
  },
  {
   "cell_type": "markdown",
   "source": "## Appending and Querying `Dicts`\n\n\nWhat makes `dicts` incredibly useful is that you can use them to ask for specific values without needing to know *when* it was entered into the `dict`; we only need to know the key.  For example, with the phone_numbers dict, we can get Ben's number by indexing his name:\n\n```python\n>>> phone_numbers = {'Ben': '+49123343282', 'Julie': '+45328472022'}\n>>> phone_numbers['Ben']\n'+49123343282'\n```\n\nIf we want to add a number, it can be done using the same syntax:\n\n```python\n>>> phone_numbers = {}\n>>> phone_numbers['Nick'] = '+4917848367'\n>>> phone_numbers\n{'Nick': '+4917848367'}\n```\n\nLet's try it out!\n",
   "metadata": {
    "tags": [],
    "cell_id": "00016-7d394c29-0bb4-461e-b2ed-ca922208e3c4",
    "deepnote_cell_type": "markdown"
   }
  },
  {
   "cell_type": "markdown",
   "source": "**Exercises**",
   "metadata": {
    "tags": [],
    "cell_id": "00017-4bc2281c-bd48-432e-bc43-3394c5b4eaae",
    "deepnote_cell_type": "markdown"
   }
  },
  {
   "cell_type": "markdown",
   "source": "Starting with an empty `dict`, add each of the kindergartners' favorite colors:\n\n  - Amy loves yellow\n  - James adores yellow\n  - Julia worships beige\n  - Johnny likes red",
   "metadata": {
    "tags": [],
    "cell_id": "00017-1e4c4022-9fa0-474d-b89c-ef7ed147cee7",
    "deepnote_cell_type": "markdown"
   }
  },
  {
   "cell_type": "markdown",
   "source": "Use the dict created above to have Python answer the following questions:",
   "metadata": {
    "tags": [],
    "cell_id": "00019-ec2f071e-4535-4080-a313-751ab829720a",
    "deepnote_cell_type": "markdown"
   }
  },
  {
   "cell_type": "markdown",
   "source": "What is James' favorite color?",
   "metadata": {
    "tags": [],
    "cell_id": "00020-8b6ebcba-1b4b-4a39-ba55-e70fd8d0156d",
    "deepnote_cell_type": "markdown"
   }
  },
  {
   "cell_type": "code",
   "source": "",
   "metadata": {
    "tags": [],
    "cell_id": "00016-ce176847-ca9e-459c-a326-660146b1f7c9",
    "deepnote_to_be_reexecuted": false,
    "source_hash": "b623e53d",
    "execution_start": 1634216232396,
    "execution_millis": 0,
    "deepnote_cell_type": "code"
   },
   "outputs": [],
   "execution_count": 0
  },
  {
   "cell_type": "markdown",
   "source": "What is Julia's favorite color?",
   "metadata": {
    "tags": [],
    "cell_id": "00022-ed8b42bc-6551-4945-a991-e68187396f16",
    "deepnote_cell_type": "markdown"
   }
  },
  {
   "cell_type": "code",
   "source": "",
   "metadata": {
    "tags": [],
    "cell_id": "00020-4289e405-d366-4782-b953-e2b0f6efc3dd",
    "deepnote_to_be_reexecuted": false,
    "source_hash": "b623e53d",
    "execution_start": 1634216396407,
    "execution_millis": 1,
    "deepnote_cell_type": "code"
   },
   "outputs": [],
   "execution_count": 0
  },
  {
   "cell_type": "markdown",
   "source": "Make the same `dict` by looping through these two lists\n\n*Tip:* `zip()` is helpful here",
   "metadata": {
    "tags": [],
    "cell_id": "00024-94436d30-a95f-4950-a8ff-0ed513c335c9",
    "deepnote_cell_type": "markdown"
   }
  },
  {
   "cell_type": "code",
   "source": "names = ['Amy', 'James', 'Julia', 'Johnny']\ncolors = ['yellow', 'yellow', 'beige', 'red']",
   "metadata": {
    "tags": [],
    "cell_id": "00025-c30118e4-5099-42e6-a5e3-4d397e472b9f",
    "deepnote_cell_type": "code"
   },
   "outputs": [],
   "execution_count": null
  },
  {
   "cell_type": "markdown",
   "source": "**Challenge**: Who has \"red\" as a favorite color?\n\n*Note*: To do this, you'll first need to create a dict that has colors as keys and names as values!",
   "metadata": {
    "tags": [],
    "cell_id": "00020-4e89f697-7131-4906-b919-56c38ec5196e",
    "deepnote_cell_type": "markdown"
   }
  },
  {
   "cell_type": "code",
   "source": "",
   "metadata": {
    "tags": [],
    "cell_id": "00025-67ccd931-0a1c-4e9f-b5f7-815e1317cff4",
    "deepnote_cell_type": "code"
   },
   "outputs": [],
   "execution_count": null
  },
  {
   "cell_type": "markdown",
   "source": "Who has \"yellow\" as a favorite color?\n\n*Note*: If the answer surprises you, you've solved it!  Discuss why it is, and what to do to work around this problem.",
   "metadata": {
    "tags": [],
    "cell_id": "00025-0dd82737-1870-4fa5-800d-845954703388",
    "deepnote_cell_type": "markdown"
   }
  },
  {
   "cell_type": "markdown",
   "source": "",
   "metadata": {
    "tags": [],
    "cell_id": "00027-f318248b-8f6e-481f-a283-4593a2172cf5",
    "deepnote_cell_type": "markdown"
   }
  },
  {
   "cell_type": "markdown",
   "source": "## Looping through Dicts\n\nKeys and Values in `dicts` work the same as with lists.  To get both to work like a zipped list, use `items()`:\n\n```python\nphone_numbers = {'Ben': '+49123343282', 'Julie': '+45328472022'}\nfor name in phone_numbers.keys():\n    print(name)\n\nfor number in phone_numbers.values():\n    print(number)\n\nfor name, number in phone_numbers.items():\n    print(name, number)\n```\n",
   "metadata": {
    "tags": [],
    "cell_id": "00028-63734f7f-5d71-4df2-a574-4d5ac11effad",
    "deepnote_cell_type": "markdown"
   }
  },
  {
   "cell_type": "markdown",
   "source": "**Exercises**",
   "metadata": {
    "tags": [],
    "cell_id": "00029-734a8859-b499-40ea-9b52-da237f899a05",
    "deepnote_cell_type": "markdown"
   }
  },
  {
   "cell_type": "markdown",
   "source": "Write a loop that Prints each sequence in this dict:",
   "metadata": {
    "tags": [],
    "cell_id": "00030-484ef68a-05b3-4e7a-84cf-af6294e58379",
    "deepnote_cell_type": "markdown"
   }
  },
  {
   "cell_type": "code",
   "source": "seqs = {'Monday': \"CATAACA\", 'Tuesday': \"GCCGTG\", 'Wednesday': \"CCATAAA\"}\n",
   "metadata": {
    "tags": [],
    "cell_id": "00031-f88a06d1-1b8e-4422-89e6-83bf006385cf",
    "deepnote_to_be_reexecuted": false,
    "source_hash": "85bace18",
    "execution_start": 1634217242022,
    "execution_millis": 2,
    "deepnote_cell_type": "code"
   },
   "outputs": [],
   "execution_count": null
  },
  {
   "cell_type": "markdown",
   "source": "Print both the day of the week and the sequence in a loop",
   "metadata": {
    "tags": [],
    "cell_id": "00031-498ff5cb-b4d0-4139-b9c1-981344b555e9",
    "deepnote_cell_type": "markdown"
   }
  },
  {
   "cell_type": "code",
   "source": "seqs = {'Monday': \"CATAACA\", 'Tuesday': \"GCCGTG\", 'Wednesday': \"CCATAAA\"}",
   "metadata": {
    "tags": [],
    "cell_id": "00033-0d4f762d-55ca-4bab-b7f5-4e427b19ac07",
    "deepnote_to_be_reexecuted": false,
    "source_hash": "d96eca3b",
    "execution_start": 1634217552403,
    "execution_millis": 1,
    "deepnote_cell_type": "code"
   },
   "outputs": [],
   "execution_count": null
  },
  {
   "cell_type": "markdown",
   "source": "Let's look at some richer data structures, combining dicts and lists together:",
   "metadata": {
    "tags": [],
    "cell_id": "00033-7a7d297b-8ed9-43fc-977a-5587d1ddb88f",
    "deepnote_cell_type": "markdown"
   }
  },
  {
   "cell_type": "markdown",
   "source": "For each sequence, print the bacteria id next to it.  For example:\n```\nBacteriaID Sequence\n3252 GCCAGGA\n3252 CCCAGGA\n1466 CAAGATGA\n...\n```",
   "metadata": {
    "tags": [],
    "cell_id": "00033-d2dc2286-2080-47c1-bc81-bac32796a85a",
    "deepnote_cell_type": "markdown"
   }
  },
  {
   "cell_type": "code",
   "source": "seqs = {\n    3252: [\"GCCAGGA\", \"CCCAGGA\"],\n    1466: [\"CAAGATGA\", \"CCACATA\"],\n    6223: [\"CCAACTAG\", \"CACCAC\"],\n}\nprint(\"BacteriaID\", \"Sequence\")",
   "metadata": {
    "tags": [],
    "cell_id": "00036-7f3445b5-18bd-4f16-84d5-25f13e75d0e8",
    "deepnote_to_be_reexecuted": false,
    "source_hash": "146204e5",
    "execution_start": 1634217962455,
    "execution_millis": 8,
    "deepnote_cell_type": "code"
   },
   "outputs": [
    {
     "name": "stdout",
     "text": "BacteriaID Sequence\n",
     "output_type": "stream"
    }
   ],
   "execution_count": null
  },
  {
   "cell_type": "markdown",
   "source": "Using the same dict, print the total number of C's in all sequences for each bacteria\nFor example:\n```\nBacteriaID TotalC \n3252 5\n...\n```",
   "metadata": {
    "tags": [],
    "cell_id": "00037-71319fa8-ea75-465a-94da-01bd13c295bd",
    "deepnote_cell_type": "markdown"
   }
  },
  {
   "cell_type": "code",
   "source": "",
   "metadata": {
    "tags": [],
    "cell_id": "00037-91dcf5c2-b188-423a-9f14-04d6fde33be4",
    "deepnote_cell_type": "code"
   },
   "outputs": [],
   "execution_count": null
  },
  {
   "cell_type": "markdown",
   "source": "print the number of Ts in all of the sequences, totalled\n\n```Total T Count: 3```",
   "metadata": {
    "tags": [],
    "cell_id": "00039-561c7102-a480-4c4f-b155-1a453cf9f875",
    "deepnote_cell_type": "markdown"
   }
  },
  {
   "cell_type": "markdown",
   "source": "For each sequence, print the bacteria id and Day of Week next to it.  For example:\n```\nBacteriaID Sequence DayOfWeek\n3252 GCCAGGA Monday\n3252 CCCAGGA Monday\n1466 CAAGATGA Monday\n...\n```",
   "metadata": {
    "tags": [],
    "cell_id": "00040-77406fba-6050-4cd2-93eb-b06df91909dd",
    "deepnote_cell_type": "markdown"
   }
  },
  {
   "cell_type": "code",
   "source": "seqs = [\n    {'Monday': {3252: \"GCCAGGA\", 1466: \"CAAGATGA\", 6223: \"CCAACTAG\"}},\n    {'Tuesday': {3252: \"CCCAGGA\", 1466: \"CCACATA\", 6223: \"CACCAC\"}},\n]\n",
   "metadata": {
    "tags": [],
    "cell_id": "00042-fd3187c3-4cbb-46cd-8c40-1afbccc8703b",
    "deepnote_to_be_reexecuted": false,
    "source_hash": "d07c196f",
    "execution_start": 1634218330305,
    "execution_millis": 1,
    "deepnote_cell_type": "code"
   },
   "outputs": [],
   "execution_count": null
  },
  {
   "cell_type": "markdown",
   "source": "Write the above to a file called \"sequences.tsv\"",
   "metadata": {
    "tags": [],
    "cell_id": "00042-b65a7926-46e2-4c8e-9e2f-c36f0c9a0831",
    "deepnote_cell_type": "markdown"
   }
  },
  {
   "cell_type": "code",
   "source": "",
   "metadata": {
    "tags": [],
    "cell_id": "00042-e225bf09-da9e-4c17-81e2-b65a4063e539",
    "deepnote_cell_type": "code"
   },
   "outputs": [],
   "execution_count": null
  },
  {
   "cell_type": "markdown",
   "source": "<a style='text-decoration:none;line-height:16px;display:flex;color:#5B5B62;padding:10px;justify-content:end;' href='https://deepnote.com?utm_source=created-in-deepnote-cell&projectId=79696a98-709a-4729-b1aa-af4bf3c33168' target=\"_blank\">\n<img alt='Created in deepnote.com' style='display:inline;max-height:16px;margin:0px;margin-right:7.5px;' src='data:image/svg+xml;base64,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' > </img>\nCreated in <span style='font-weight:600;margin-left:4px;'>Deepnote</span></a>",
   "metadata": {
    "tags": [],
    "created_in_deepnote_cell": true,
    "deepnote_cell_type": "markdown"
   }
  }
 ],
 "nbformat": 4,
 "nbformat_minor": 2,
 "metadata": {
  "orig_nbformat": 2,
  "deepnote": {
   "is_reactive": false
  },
  "deepnote_notebook_id": "125ddd91-b676-4a39-9b9c-6a9dbafec010",
  "deepnote_execution_queue": []
 }
}