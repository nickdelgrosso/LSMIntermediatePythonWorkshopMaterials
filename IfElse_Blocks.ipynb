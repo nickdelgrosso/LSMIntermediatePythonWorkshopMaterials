{
 "cells": [
  {
   "cell_type": "markdown",
   "source": "# If-else Blocks\n## Python's Block Syntax\n\nIf-else blocks are used in programming languages to control the \"flow\" of the program (i.e. make decisions about which code gets run).  \n\n```python\nx = 5\nif x > 4:\n    print('big')\nelif x < 0:  # optional, can have as many as you want\n    print('negative')\nelse:   # optional \n    print('small')\n```\n\nReasoning through which lines of code will get run takes some practice.  \nIn this notebook, we'll look at many if-else blocks, predicting the code outcome, then ",
   "metadata": {
    "tags": [],
    "cell_id": "00001-5a27c095-ae55-47d4-ac48-d1137fcbc161",
    "deepnote_cell_type": "markdown"
   }
  },
  {
   "cell_type": "markdown",
   "source": "**Exercises**",
   "metadata": {
    "tags": [],
    "cell_id": "00001-92432385-065c-4be2-84ac-543638a9b9a0",
    "deepnote_cell_type": "markdown"
   }
  },
  {
   "cell_type": "markdown",
   "source": "If `x` is greater than 3, `y` is 5.  Otherwise, `y` is 3",
   "metadata": {
    "tags": [],
    "cell_id": "00002-3503fda9-dfa5-473a-ad05-481e85f28764",
    "deepnote_cell_type": "markdown"
   }
  },
  {
   "cell_type": "code",
   "metadata": {
    "tags": [],
    "cell_id": "00001-460abe91-9353-4e5d-ab9e-bef836309ae4",
    "allow_embed": "code_output",
    "deepnote_to_be_reexecuted": false,
    "source_hash": "b623e53d",
    "execution_start": 1634157650998,
    "execution_millis": 10,
    "deepnote_cell_type": "code"
   },
   "source": "",
   "outputs": [],
   "execution_count": null
  },
  {
   "cell_type": "markdown",
   "source": "If `month` is in January, March, May, July, August, October, or December, then `has_31_days` is True.  Else, it's False.\n\nTip:  `'a' in ['a', 'b', 'c'] == True`",
   "metadata": {
    "tags": [],
    "cell_id": "00004-7160077c-fde3-488b-906c-dfcaeda4a2ea",
    "deepnote_cell_type": "markdown"
   }
  },
  {
   "cell_type": "code",
   "metadata": {
    "tags": [],
    "cell_id": "00004-0feaca0b-b2ff-405a-87ae-8734a52148a0",
    "deepnote_cell_type": "code"
   },
   "source": "",
   "execution_count": null,
   "outputs": []
  },
  {
   "cell_type": "markdown",
   "source": "  - If `seq` has 'T', print \"DNA!\".  \n  - If it has 'U' and not 'T', print \"RNA!\"\n  - Otherwise, print \"Not sure!\"\n",
   "metadata": {
    "tags": [],
    "cell_id": "00003-6e5bd3b8-a7c6-4673-bb73-7d178f86e69b",
    "deepnote_cell_type": "markdown"
   }
  },
  {
   "cell_type": "code",
   "metadata": {
    "tags": [],
    "cell_id": "00007-de9416f4-21cf-4df7-9101-62ea7cfa6672",
    "deepnote_to_be_reexecuted": false,
    "source_hash": "b623e53d",
    "execution_start": 1634158109570,
    "execution_millis": 0,
    "deepnote_cell_type": "code"
   },
   "source": "",
   "outputs": [],
   "execution_count": null
  },
  {
   "cell_type": "markdown",
   "source": "print a label for a person given their `age`\n  - 0-1:  \"infant\"\n  - 1-3: \"toddler\"\n  - 3-10: \"child\"\n  - 10-13: \"preteen\"\n  - 13-18: \"teenager\"\n  - 18: \"adult\"",
   "metadata": {
    "tags": [],
    "cell_id": "00008-f77a2c03-f0a6-47be-8fe6-7771be41b157",
    "deepnote_cell_type": "markdown"
   }
  },
  {
   "cell_type": "code",
   "metadata": {
    "tags": [],
    "cell_id": "00009-eec2730b-df1b-4598-b205-a73caf75292e",
    "deepnote_cell_type": "code"
   },
   "source": "",
   "execution_count": null,
   "outputs": []
  },
  {
   "cell_type": "markdown",
   "source": "**Recognition Exercises from Kahoot**\n\n",
   "metadata": {
    "tags": [],
    "cell_id": "00001-8fda06ba-fdb6-42f8-8147-d16e41f8580c",
    "deepnote_cell_type": "markdown"
   }
  },
  {
   "cell_type": "code",
   "metadata": {
    "tags": [],
    "cell_id": "00001-5644f68f-e075-422a-beef-01ded7935c6e",
    "deepnote_to_be_reexecuted": false,
    "source_hash": "a8e892fb",
    "execution_start": 1634154221182,
    "execution_millis": 1,
    "deepnote_cell_type": "code"
   },
   "source": "seq = \"GTCAAGAT\"\nprint('H')\nif seq.count('A') > seq.count('T'):\n    print('A')\nelse:\n    print('T')",
   "outputs": [
    {
     "name": "stdout",
     "text": "A\n",
     "output_type": "stream"
    }
   ],
   "execution_count": null
  },
  {
   "cell_type": "code",
   "metadata": {
    "tags": [],
    "cell_id": "00002-dc60a83b-708c-4acb-826f-a2004b603786",
    "deepnote_to_be_reexecuted": false,
    "source_hash": "b6fbbe97",
    "execution_start": 1634154110639,
    "execution_millis": 9,
    "deepnote_cell_type": "code"
   },
   "source": "seq = \"GTCAAGAT\"\nif seq.count('T') > seq.count('G'):\n    print('T')\nelse:\n    print('G')\nprint('C')",
   "outputs": [
    {
     "name": "stdout",
     "text": "G\n",
     "output_type": "stream"
    }
   ],
   "execution_count": null
  },
  {
   "cell_type": "code",
   "metadata": {
    "tags": [],
    "cell_id": "00003-9ff6752e-e1e8-41ee-b27f-6ffeb17735a5",
    "deepnote_to_be_reexecuted": false,
    "source_hash": "6cc4da44",
    "execution_start": 1634154245243,
    "execution_millis": 14,
    "deepnote_cell_type": "code"
   },
   "source": "seq = \"GTCAAGAT\"\nif seq.count('T') > seq.count('A'):\n    print('T')\nelif seq.count('C') >= seq.count('G'):\n    print('C')\nelse:\n    print('A')",
   "outputs": [
    {
     "name": "stdout",
     "text": "A\n",
     "output_type": "stream"
    }
   ],
   "execution_count": null
  },
  {
   "cell_type": "code",
   "metadata": {
    "tags": [],
    "cell_id": "00004-9659b2b7-f9c0-4ca3-9e51-177387207720",
    "deepnote_to_be_reexecuted": false,
    "source_hash": "f7925bd0",
    "execution_start": 1634154920782,
    "execution_millis": 9,
    "deepnote_cell_type": "code"
   },
   "source": "seq = \"GTCAAGAT\"\nif len(seq) > 5:\n    print('Long')\nif len(seq) >= 4:\n    print('Middle')\nelse:\n    print('Short')",
   "outputs": [
    {
     "name": "stdout",
     "text": "Long\nMiddle\n",
     "output_type": "stream"
    }
   ],
   "execution_count": null
  },
  {
   "cell_type": "code",
   "metadata": {
    "tags": [],
    "cell_id": "00005-5f1238da-a78f-4dd4-b2c8-6e4c1eeabc3b",
    "deepnote_to_be_reexecuted": false,
    "source_hash": "ebc24104",
    "execution_start": 1634155036137,
    "execution_millis": 13,
    "deepnote_cell_type": "code"
   },
   "source": "seq = \"GTCAAGAT\"\nif \"U\" in seq:\n    print('U')\nelif \"T\" in seq:\n    print('T')\nelse:\n    print('N')",
   "outputs": [
    {
     "name": "stdout",
     "text": "T\n",
     "output_type": "stream"
    }
   ],
   "execution_count": null
  },
  {
   "cell_type": "code",
   "metadata": {
    "tags": [],
    "cell_id": "00016-cb48cac9-ad14-4df7-b81a-31e6cdf8a7ea",
    "deepnote_to_be_reexecuted": false,
    "source_hash": "3eceeb6f",
    "execution_start": 1634160923800,
    "deepnote_cell_type": "code"
   },
   "source": "y = 0\nx = 1\nif y > 5:\n    x = 2\nelif y < -3:\n    x = 4",
   "outputs": [],
   "execution_count": null
  },
  {
   "cell_type": "code",
   "metadata": {
    "tags": [],
    "cell_id": "00005-22248399-9676-4a21-a550-17d9208d491c",
    "deepnote_to_be_reexecuted": false,
    "source_hash": "15646412",
    "execution_start": 1634154422465,
    "execution_millis": 9,
    "deepnote_cell_type": "code"
   },
   "source": "x = 1\nif x > 0:\n    x = x + 1\nelif x > 1:\n    x = x + 3\nelse:\n    x = 3\nprint(x)",
   "outputs": [
    {
     "name": "stdout",
     "text": "2\n",
     "output_type": "stream"
    }
   ],
   "execution_count": null
  },
  {
   "cell_type": "code",
   "metadata": {
    "tags": [],
    "cell_id": "00006-685d4a70-75b8-4851-8ac2-2de96decae32",
    "deepnote_to_be_reexecuted": false,
    "source_hash": "64d0e563",
    "execution_start": 1634154446367,
    "execution_millis": 6,
    "deepnote_cell_type": "code"
   },
   "source": "x = 1\nif x > 0:\n    x = x + 1\nif x > 1:\n    x = x + 1\nif x > 2:\n    x = x + 1\nprint(x)",
   "outputs": [
    {
     "name": "stdout",
     "text": "4\n",
     "output_type": "stream"
    }
   ],
   "execution_count": null
  },
  {
   "cell_type": "code",
   "metadata": {
    "tags": [],
    "cell_id": "00007-c508b20e-b369-4f87-befb-a552d19d3cd4",
    "deepnote_to_be_reexecuted": false,
    "source_hash": "981f8c76",
    "execution_start": 1634154459888,
    "execution_millis": 8,
    "deepnote_cell_type": "code"
   },
   "source": "x = 1\nif x > 0:\n    x = x + 1\nif x > 1:\n    x = x + 1\nelif x > 2:\n    x = x + 1\nprint(x)",
   "outputs": [
    {
     "name": "stdout",
     "text": "3\n",
     "output_type": "stream"
    }
   ],
   "execution_count": null
  },
  {
   "cell_type": "code",
   "metadata": {
    "tags": [],
    "cell_id": "00008-e9a87edd-5913-4d4f-a1e6-566e8f4dc9f3",
    "deepnote_to_be_reexecuted": false,
    "source_hash": "b9ee1ed",
    "execution_start": 1634154486718,
    "execution_millis": 15,
    "deepnote_cell_type": "code"
   },
   "source": "x = 1\nif x > 0:\n    x = x + 1\nelif x > 1:\n    x = x + 1\nif x > 2:\n    x = x + 1\nprint(x)",
   "outputs": [
    {
     "name": "stdout",
     "text": "2\n",
     "output_type": "stream"
    }
   ],
   "execution_count": null
  },
  {
   "cell_type": "code",
   "metadata": {
    "tags": [],
    "cell_id": "00010-5f7783a8-636b-43db-84db-ccb27b33fe70",
    "deepnote_to_be_reexecuted": false,
    "source_hash": "37cc1bb7",
    "execution_start": 1634157251152,
    "execution_millis": 12,
    "deepnote_cell_type": "code"
   },
   "source": "x = 1\nif x > 0:\n    x += 1\nif x > 1:\n    x += 1\nelse:\n    x += 1\nprint(x)",
   "outputs": [
    {
     "name": "stdout",
     "text": "3\n",
     "output_type": "stream"
    }
   ],
   "execution_count": null
  },
  {
   "cell_type": "code",
   "metadata": {
    "tags": [],
    "cell_id": "00010-cf32139b-6706-41a1-9650-0cef42ec2090",
    "deepnote_to_be_reexecuted": false,
    "source_hash": "fb0a8ddf",
    "execution_start": 1634155720636,
    "execution_millis": 25,
    "deepnote_cell_type": "code"
   },
   "source": "seq = \"CAATAA\"\npotential_species = [\"Dog\", \"Cat\", \"Rat\", \"Mouse\"]\nif len(seq.replace('A', '')) > 3:\n    potential_species.remove('Dog')\nif seq.count('A') > 3:\n    potential_species.remove('Cat')\nelif seq.count('C') > 0:\n    potential_species.remove('Rat')\nprint(potential_species)",
   "outputs": [
    {
     "name": "stdout",
     "text": "['Dog', 'Rat', 'Mouse']\n",
     "output_type": "stream"
    }
   ],
   "execution_count": null
  },
  {
   "cell_type": "code",
   "metadata": {
    "tags": [],
    "cell_id": "00011-1ddc9958-ff16-4ef6-94ab-eac9df6553c3",
    "deepnote_to_be_reexecuted": false,
    "source_hash": "a6bdad86",
    "execution_start": 1634157199870,
    "execution_millis": 7,
    "deepnote_cell_type": "code"
   },
   "source": "seq = \"G\"\nseq += \"C\"\nseq = seq + \"T\"\nprint(seq)",
   "outputs": [],
   "execution_count": null
  },
  {
   "cell_type": "code",
   "metadata": {
    "tags": [],
    "cell_id": "00011-a5448d46-60ff-4c0c-b9e9-d77f5e68a1f7",
    "deepnote_to_be_reexecuted": false,
    "source_hash": "b6df022a",
    "execution_start": 1634155923974,
    "execution_millis": 1,
    "deepnote_cell_type": "code"
   },
   "source": "letters = []\nif 3 * 5 == 15:\n    letters.append('a')\nelse:\n    letters.append('b')\nif 2 + 3 == 5:\n    letters.append('c')\nelif 1 + 1 == 2:\n    letters.append('d')\nprint(letters)",
   "outputs": [
    {
     "name": "stdout",
     "text": "['a', 'c']\n",
     "output_type": "stream"
    }
   ],
   "execution_count": null
  },
  {
   "cell_type": "code",
   "metadata": {
    "tags": [],
    "cell_id": "00012-9f595ea2-d9dd-4efa-b458-060679d984e2",
    "deepnote_cell_type": "code"
   },
   "source": "",
   "execution_count": null,
   "outputs": []
  },
  {
   "cell_type": "markdown",
   "source": "<a style='text-decoration:none;line-height:16px;display:flex;color:#5B5B62;padding:10px;justify-content:end;' href='https://deepnote.com?utm_source=created-in-deepnote-cell&projectId=2315fd57-700a-4075-a620-309a4fd7d62c' target=\"_blank\">\n<img alt='Created in deepnote.com' style='display:inline;max-height:16px;margin:0px;margin-right:7.5px;' src='data:image/svg+xml;base64,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' > </img>\nCreated in <span style='font-weight:600;margin-left:4px;'>Deepnote</span></a>",
   "metadata": {
    "tags": [],
    "created_in_deepnote_cell": true,
    "deepnote_cell_type": "markdown"
   }
  }
 ],
 "nbformat": 4,
 "nbformat_minor": 2,
 "metadata": {
  "orig_nbformat": 2,
  "deepnote": {
   "is_reactive": false
  },
  "deepnote_notebook_id": "d7a6cb7d-24ad-4442-883a-a43bec763bb9",
  "deepnote_execution_queue": []
 }
}