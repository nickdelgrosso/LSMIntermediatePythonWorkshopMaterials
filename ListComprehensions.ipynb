{
 "cells": [
  {
   "cell_type": "markdown",
   "source": "## Transforming Each Element of a Collection with a List Comprehension\n\nOften, you want to do something to the data inside your collection--double it, increase it, compute some metric, etc.  \nAt the end, you still have the same *number* of elements, but the values themselves have changed.  \nWe will be looking at lots of ways to accomplish this in  Python, but first we're going to use a **for-loop** in a format called a **comprehension**.\n\nComprehensions produce a new collection containing new values *\"for each\"* value *in* the original collection.  They look like this:\n\n```python\n>>> data = [1, 2, 3]\n>>> squared = [x ** 2 for x in data]\n>>> squared\n[1, 4, 9]\n```\n\n```python\n>>> data = [1, 4, 25]\n>>> roots = [math.sqrt(x) for x in data]\n>>> roots\n[1, 2, 5]\n```",
   "metadata": {
    "tags": [],
    "cell_id": "00001-224ea2f6-84b5-4458-a5a2-6a5c713b77b9",
    "deepnote_cell_type": "markdown"
   }
  },
  {
   "cell_type": "markdown",
   "source": "**Exercises**",
   "metadata": {
    "tags": [],
    "cell_id": "00002-73fd9114-d117-4d42-9ffc-ac380af8cb4d",
    "deepnote_cell_type": "markdown"
   }
  },
  {
   "cell_type": "markdown",
   "source": "Get a list that added 1 to each value in data:\n",
   "metadata": {
    "tags": [],
    "cell_id": "00003-01e8a4ca-19e7-4585-9068-676ada6ab2b0",
    "deepnote_cell_type": "markdown"
   }
  },
  {
   "cell_type": "code",
   "metadata": {
    "tags": [],
    "cell_id": "00004-a26f454d-6afe-4c8a-8321-c6c10cb28455",
    "deepnote_to_be_reexecuted": false,
    "source_hash": "5f076cc7",
    "execution_start": 1634082308511,
    "execution_millis": 1,
    "deepnote_cell_type": "code"
   },
   "source": "data = [-2, -1, 0, 1, 2, 3]",
   "outputs": [],
   "execution_count": null
  },
  {
   "cell_type": "markdown",
   "source": "Get the absolute value of each element in data, using the built-in abs() function:",
   "metadata": {
    "tags": [],
    "cell_id": "00004-7453ec18-8e9a-4362-9fd6-51d3dde412dc",
    "deepnote_cell_type": "markdown"
   }
  },
  {
   "cell_type": "code",
   "metadata": {
    "tags": [],
    "cell_id": "00006-af397349-2ee4-4881-b82c-581e794b9b8f",
    "deepnote_to_be_reexecuted": false,
    "source_hash": "5f076cc7",
    "execution_start": 1634082323503,
    "execution_millis": 2,
    "deepnote_cell_type": "code"
   },
   "source": "data = [-2, -1, 0, 1, 2, 3]",
   "outputs": [],
   "execution_count": null
  },
  {
   "cell_type": "markdown",
   "source": "Round all these numbers to the nearest integer (use the \"round()\" function):",
   "metadata": {
    "tags": [],
    "cell_id": "00006-8cb38317-ce70-42eb-8d4d-428f5a9df66b",
    "deepnote_cell_type": "markdown"
   }
  },
  {
   "cell_type": "code",
   "metadata": {
    "tags": [],
    "cell_id": "00009-882efdb7-f64a-4e1f-b827-b2f0c255f6ed",
    "deepnote_to_be_reexecuted": false,
    "source_hash": "5f076cc7",
    "execution_start": 1634082329169,
    "execution_millis": 0,
    "deepnote_cell_type": "code"
   },
   "source": "data = [-2, -1, 0, 1, 2, 3]",
   "outputs": [],
   "execution_count": null
  },
  {
   "cell_type": "markdown",
   "source": "Get all the first letters of each name in the list:",
   "metadata": {
    "tags": [],
    "cell_id": "00005-8a2db8e9-8137-4874-8e46-2cb507c27ed4",
    "deepnote_cell_type": "markdown"
   }
  },
  {
   "cell_type": "code",
   "metadata": {
    "tags": [],
    "cell_id": "00009-d069f197-8c59-444f-9b94-1ee1fc3d8813",
    "deepnote_to_be_reexecuted": false,
    "source_hash": "3d0d6b91",
    "execution_start": 1634082348730,
    "execution_millis": 2,
    "deepnote_cell_type": "code"
   },
   "source": "names = [\"John\", \"Harry\", \"Moe\", \"Luke\"]",
   "outputs": [],
   "execution_count": null
  },
  {
   "cell_type": "markdown",
   "source": "**Exercises with DNA**",
   "metadata": {
    "tags": [],
    "cell_id": "00007-b44e519b-932c-48f4-ad49-99d1427bd97b",
    "deepnote_cell_type": "markdown"
   }
  },
  {
   "cell_type": "markdown",
   "source": "Count the length of these sequences:",
   "metadata": {
    "tags": [],
    "cell_id": "00012-cd1a72dd-7ea1-42a4-80ff-cd35bed11572",
    "deepnote_cell_type": "markdown"
   }
  },
  {
   "cell_type": "code",
   "metadata": {
    "tags": [],
    "cell_id": "00013-d2ab3a2c-c29e-47f0-a92b-b2f619423300",
    "deepnote_to_be_reexecuted": false,
    "source_hash": "11432b8e",
    "execution_start": 1634082470249,
    "execution_millis": 0,
    "deepnote_cell_type": "code"
   },
   "source": "seqs = [\"GTAATCG\", \"GTACCAAA\", \"GGTAGTACCAC\"]",
   "outputs": [],
   "execution_count": null
  },
  {
   "cell_type": "markdown",
   "source": "Get the first codon (first three nucleotides) from each sequence",
   "metadata": {
    "tags": [],
    "cell_id": "00014-b80a33aa-e45d-490f-8bd7-ebc0f3d75e99",
    "deepnote_cell_type": "markdown"
   }
  },
  {
   "cell_type": "code",
   "metadata": {
    "tags": [],
    "cell_id": "00014-467ea0f8-d226-410a-bf11-a80b88f68811",
    "deepnote_cell_type": "code"
   },
   "source": "seqs = [\"GTAATCG\", \"GTACCAAA\", \"GGTAGTACCAC\"]",
   "outputs": [],
   "execution_count": null
  },
  {
   "cell_type": "markdown",
   "source": "Count the number of Adenosines in each sequences",
   "metadata": {
    "tags": [],
    "cell_id": "00016-5b554446-0411-474d-8e8d-fada08d529f8",
    "deepnote_cell_type": "markdown"
   }
  },
  {
   "cell_type": "code",
   "metadata": {
    "tags": [],
    "cell_id": "00015-b6d82025-f35c-4f02-9120-aa0688266ea8",
    "deepnote_cell_type": "code"
   },
   "source": "seqs = [\"GTAATCG\", \"GTACCAAA\", \"GGTAGTACCAC\"]",
   "outputs": [],
   "execution_count": null
  },
  {
   "cell_type": "markdown",
   "source": "Make all these sequences formatted the same way",
   "metadata": {
    "tags": [],
    "cell_id": "00018-55997b4d-a409-4e34-b8d2-6e17a2de9c32",
    "deepnote_cell_type": "markdown"
   }
  },
  {
   "cell_type": "code",
   "metadata": {
    "tags": [],
    "cell_id": "00016-750d9159-649e-4219-8653-c3d85a85f94f",
    "deepnote_cell_type": "code"
   },
   "source": "seqs = [\"GTAATCG\", \"gtaccaaa\", \"GGtAGtACCaC\"]",
   "outputs": [],
   "execution_count": null
  },
  {
   "cell_type": "markdown",
   "source": "Reverse all the sequences",
   "metadata": {
    "tags": [],
    "cell_id": "00020-30b41a3a-1b3f-4e59-8232-c077acbcad3f",
    "deepnote_cell_type": "markdown"
   }
  },
  {
   "cell_type": "code",
   "metadata": {
    "tags": [],
    "cell_id": "00017-a3b8fc02-e8c3-4fc7-8883-99ba5991ca24",
    "deepnote_to_be_reexecuted": false,
    "source_hash": "11432b8e",
    "execution_start": 1634082739768,
    "execution_millis": 0,
    "deepnote_cell_type": "code"
   },
   "source": "seqs = [\"GTAATCG\", \"GTACCAAA\", \"GGTAGTACCAC\"]",
   "outputs": [],
   "execution_count": null
  },
  {
   "cell_type": "markdown",
   "source": "## Filtering Collections in a List Comprehension\n\nWhat if you only want to include *some* values in a collection?  With the **if** statement and a **logical expression**, you can do it in a comprehension!  For example:\n\n```python\n>>> data = [1, 2, 3, 4]\n>>> [x for x in data if x > 2]\n[3, 4]\n```\n\nThis can be combined with various transformations as well!\n\n```python\n>>> data = [\"John\", \"Harry\", \"Moe\", \"Luke\"]\n>>> [x[0] for x in data if len(x) < 5]\n[\"J\", \"M\", \"L\"]\n```",
   "metadata": {
    "tags": [],
    "cell_id": "00014-ca37da6a-9cdd-48e0-9b72-5f4c8afb6d49",
    "deepnote_cell_type": "markdown"
   }
  },
  {
   "cell_type": "markdown",
   "source": "Get All positive values in the following list:",
   "metadata": {
    "tags": [],
    "cell_id": "00023-97fc859b-7923-47a6-b239-933c89430201",
    "deepnote_cell_type": "markdown"
   }
  },
  {
   "cell_type": "code",
   "metadata": {
    "tags": [],
    "cell_id": "00024-cce9e669-2f3d-404e-bace-341fe7f8a014",
    "deepnote_to_be_reexecuted": false,
    "source_hash": "bd2a7af2",
    "execution_start": 1634082791845,
    "execution_millis": 2,
    "deepnote_cell_type": "code"
   },
   "source": "data = [-6, 3, -1, 10, -5, 0]",
   "outputs": [],
   "execution_count": null
  },
  {
   "cell_type": "markdown",
   "source": "Make a list of all names that start with the letter \"L\":",
   "metadata": {
    "tags": [],
    "cell_id": "00024-6d41def3-1f96-494a-9905-a8587eb4234b",
    "deepnote_cell_type": "markdown"
   }
  },
  {
   "cell_type": "code",
   "metadata": {
    "tags": [],
    "cell_id": "00026-ad23cae4-e343-4705-8763-0f68fd09d4fd",
    "deepnote_to_be_reexecuted": false,
    "source_hash": "3d0d6b91",
    "execution_start": 1634082815816,
    "execution_millis": 1,
    "deepnote_cell_type": "code"
   },
   "source": "names = [\"John\", \"Harry\", \"Moe\", \"Luke\"]",
   "outputs": [],
   "execution_count": null
  },
  {
   "cell_type": "markdown",
   "source": "Only keep sequences with more than 1 Tyrosine",
   "metadata": {
    "tags": [],
    "cell_id": "00027-14052b56-6ff3-4400-9635-29f44ac31728",
    "deepnote_cell_type": "markdown"
   }
  },
  {
   "cell_type": "code",
   "metadata": {
    "tags": [],
    "cell_id": "00027-e7843141-c1b7-4e2f-a833-22eb863c58f7",
    "deepnote_to_be_reexecuted": false,
    "source_hash": "11432b8e",
    "execution_start": 1634083084575,
    "execution_millis": 1,
    "deepnote_cell_type": "code"
   },
   "source": "seqs = [\"GTAATCG\", \"GTACCAAA\", \"GGTAGTACCAC\"]",
   "outputs": [],
   "execution_count": null
  },
  {
   "cell_type": "markdown",
   "source": "Only keep sequences shorter than 9 nucleotides",
   "metadata": {
    "tags": [],
    "cell_id": "00029-f48446f3-2bb5-4422-b703-4121ce4de527",
    "deepnote_cell_type": "markdown"
   }
  },
  {
   "cell_type": "code",
   "metadata": {
    "tags": [],
    "cell_id": "00030-3056d4a8-58d9-4d29-90ea-da34c2eeb94f",
    "deepnote_cell_type": "code"
   },
   "source": "seqs = [\"GTAATCG\", \"GTACCAAA\", \"GGTAGTACCAC\"]",
   "outputs": [],
   "execution_count": null
  },
  {
   "cell_type": "markdown",
   "source": "Lower-case the sequences (i.e. make them have small letters), only keeping ones that end with Cytosine ",
   "metadata": {
    "tags": [],
    "cell_id": "00027-658dce20-31dd-4492-a47e-84b40eaa1f10",
    "deepnote_cell_type": "markdown"
   }
  },
  {
   "cell_type": "code",
   "metadata": {
    "tags": [],
    "cell_id": "00032-e591f917-5b19-497d-9a6c-42a13e5098bd",
    "deepnote_to_be_reexecuted": false,
    "source_hash": "5af6e485",
    "execution_start": 1634083196552,
    "execution_millis": 0,
    "deepnote_cell_type": "code"
   },
   "source": "seqs = [\"GTAATCG\", \"GTACCAAAC\", \"GGTAGTACCAC\"]",
   "outputs": [],
   "execution_count": null
  },
  {
   "cell_type": "markdown",
   "source": "Remove the Missing data from the list",
   "metadata": {
    "tags": [],
    "cell_id": "00031-c180fc75-241a-4398-bf0c-1fa5eff80aa2",
    "deepnote_cell_type": "markdown"
   }
  },
  {
   "cell_type": "code",
   "metadata": {
    "tags": [],
    "cell_id": "00034-b74cd424-a3c6-43b8-9422-bf57e7c6ad5b",
    "deepnote_to_be_reexecuted": false,
    "source_hash": "8fec6aef",
    "execution_start": 1634083254128,
    "execution_millis": 9,
    "deepnote_cell_type": "code"
   },
   "source": "seqs = [\"GTAATCG\", None, None, \"GTACCAAA\", None, \"GGTAGTACCAC\", None]",
   "outputs": [],
   "execution_count": null
  },
  {
   "cell_type": "markdown",
   "source": "",
   "metadata": {
    "tags": [],
    "cell_id": "00034-016a78bd-b06e-4853-9f44-cb37373d348d",
    "deepnote_cell_type": "markdown"
   }
  },
  {
   "cell_type": "markdown",
   "source": "## Conditional Transformations \n\nSometimes you want to transform different data differently, conditioned on some parameter in your analysis.  For example, what if you want to lowercase the names in the list than have 4 letters, and uppercase the other names?  \n\n```\n>>> data = [\"John\", \"Harry\", \"Moe\", \"Luke\"]\n>>> [x.lower() if len(x) == 4 else x.upper() for x in data]\n[\"john\", \"HARRY\", \"MOE\", \"luke\"]\n```\n\n...and only keep the names that end in the letter \"e\"?\n\n```\n>>> data = [\"John\", \"Harry\", \"Moe\", \"Luke\"]\n>>> [x.lower() if len(x) == 4 else x.upper() for x in data if x[-1] == 'e']\n[\"MOE\", \"luke\"]\n```",
   "metadata": {
    "tags": [],
    "cell_id": "00036-83331790-2787-4761-9287-b7cd83fc354f",
    "deepnote_cell_type": "markdown"
   }
  },
  {
   "cell_type": "markdown",
   "source": "**Exercises**",
   "metadata": {
    "tags": [],
    "cell_id": "00037-90fe7670-3374-4549-9b68-cb3f03c29e8c",
    "deepnote_cell_type": "markdown"
   }
  },
  {
   "cell_type": "markdown",
   "source": "",
   "metadata": {
    "tags": [],
    "cell_id": "00037-a4735bea-b166-4078-8b43-4888c5add307",
    "deepnote_cell_type": "markdown"
   }
  },
  {
   "cell_type": "markdown",
   "source": "If the second nucleotide is T, lowercase the letters.",
   "metadata": {
    "tags": [],
    "cell_id": "00039-83d8cc01-46ce-4f79-b103-7ca0a7d18194",
    "deepnote_cell_type": "markdown"
   }
  },
  {
   "cell_type": "code",
   "metadata": {
    "tags": [],
    "cell_id": "00040-8e2ad67e-6bfe-4ccb-8628-710a6705ba7e",
    "deepnote_cell_type": "code"
   },
   "source": "seqs = [\"GTAATCG\", \"GTACCAAA\", \"GGTAGTACCAC\"]",
   "outputs": [],
   "execution_count": null
  },
  {
   "cell_type": "markdown",
   "source": "If the sequence is shorter than  8 nucleotides, make it twice as long.",
   "metadata": {
    "tags": [],
    "cell_id": "00041-b38499fb-d464-4159-b08d-e340eb0e6622",
    "deepnote_cell_type": "markdown"
   }
  },
  {
   "cell_type": "code",
   "metadata": {
    "tags": [],
    "cell_id": "00043-77c71355-f90b-48fe-9839-6291c5d4cc6a",
    "deepnote_to_be_reexecuted": false,
    "source_hash": "11432b8e",
    "execution_start": 1634083743624,
    "execution_millis": 0,
    "deepnote_cell_type": "code"
   },
   "source": "seqs = [\"GTAATCG\", \"GTACCAAA\", \"GGTAGTACCAC\"]",
   "outputs": [],
   "execution_count": null
  },
  {
   "cell_type": "markdown",
   "source": "If the sequence ends in \"A\", count the number of A in the sequence.  Else, count the number of Cs",
   "metadata": {
    "tags": [],
    "cell_id": "00043-75145ad4-aca5-4c78-a597-a59790680d61",
    "deepnote_cell_type": "markdown"
   }
  },
  {
   "cell_type": "code",
   "metadata": {
    "tags": [],
    "cell_id": "00044-9db7b392-df9a-4da2-9b78-56726968adc0",
    "deepnote_to_be_reexecuted": false,
    "source_hash": "11432b8e",
    "execution_start": 1634083816417,
    "execution_millis": 3,
    "deepnote_cell_type": "code"
   },
   "source": "seqs = [\"GTAATCG\", \"GTACCAAA\", \"GGTAGTACCAC\"]",
   "outputs": [],
   "execution_count": null
  },
  {
   "cell_type": "markdown",
   "source": "If the sequence length is divisible by 3, count the number of codons.  Else, show only `None` for that sequence",
   "metadata": {
    "tags": [],
    "cell_id": "00045-497e0f9a-3e36-4ad4-8d4a-cf0cce0dd2e7",
    "deepnote_cell_type": "markdown"
   }
  },
  {
   "cell_type": "code",
   "metadata": {
    "tags": [],
    "cell_id": "00044-0edc94a0-8ca5-4427-a787-9e155eb90ce0",
    "deepnote_to_be_reexecuted": false,
    "source_hash": "11432b8e",
    "execution_start": 1634083898420,
    "execution_millis": 3,
    "deepnote_cell_type": "code"
   },
   "source": "seqs = [\"GTAATCG\", \"GTACCAAAC\", \"GGTAGTACCAC\", \"GCATTA\"]",
   "outputs": [],
   "execution_count": null
  },
  {
   "cell_type": "code",
   "metadata": {
    "tags": [],
    "cell_id": "00046-3937cb8d-7861-44b5-aef6-a262b2c8f46d",
    "deepnote_cell_type": "code"
   },
   "source": "",
   "outputs": [],
   "execution_count": null
  },
  {
   "cell_type": "markdown",
   "source": "<a style='text-decoration:none;line-height:16px;display:flex;color:#5B5B62;padding:10px;justify-content:end;' href='https://deepnote.com?utm_source=created-in-deepnote-cell&projectId=79696a98-709a-4729-b1aa-af4bf3c33168' target=\"_blank\">\n<img alt='Created in deepnote.com' style='display:inline;max-height:16px;margin:0px;margin-right:7.5px;' src='data:image/svg+xml;base64,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' > </img>\nCreated in <span style='font-weight:600;margin-left:4px;'>Deepnote</span></a>",
   "metadata": {
    "tags": [],
    "created_in_deepnote_cell": true,
    "deepnote_cell_type": "markdown"
   }
  }
 ],
 "nbformat": 4,
 "nbformat_minor": 2,
 "metadata": {
  "orig_nbformat": 2,
  "deepnote": {
   "is_reactive": false
  },
  "deepnote_notebook_id": "5ca45439-7e0e-4e51-9f2f-96067942dbfb",
  "deepnote_execution_queue": []
 }
}